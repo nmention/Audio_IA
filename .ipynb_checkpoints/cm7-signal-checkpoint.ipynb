{
 "cells": [
  {
   "cell_type": "markdown",
   "id": "94f0c8b0",
   "metadata": {},
   "source": [
    "# CM6 : Données de type signal"
   ]
  },
  {
   "cell_type": "code",
   "execution_count": null,
   "id": "c9a7bb9d",
   "metadata": {},
   "outputs": [],
   "source": [
    "import numpy as np\n",
    "from PIL import Image\n",
    "import matplotlib.pyplot as plt\n",
    "import scipy.io.wavfile as wav\n",
    "import torchaudio\n",
    "#import torch\n",
    "from IPython.display import Audio, display\n",
    "from scipy.fft import fft\n",
    "from utils import *"
   ]
  },
  {
   "cell_type": "markdown",
   "id": "0c71d9d6",
   "metadata": {},
   "source": [
    "# 1) Echantillonnage et dimensions\n",
    "\n",
    "## cas des images"
   ]
  },
  {
   "cell_type": "code",
   "execution_count": null,
   "id": "0a8516e8",
   "metadata": {},
   "outputs": [],
   "source": [
    "im = Image.open('figures/lmu.jpg')\n",
    "plt.figure(figsize=(12,4))\n",
    "plt.imshow(im)\n",
    "plt.show()"
   ]
  },
  {
   "cell_type": "code",
   "execution_count": null,
   "id": "ccbcddce",
   "metadata": {},
   "outputs": [],
   "source": [
    "imn = np.array(im)\n",
    "print(f\"dimensions de l'image (largeur, hauteur, couleur): {imn.shape}\")"
   ]
  },
  {
   "cell_type": "code",
   "execution_count": null,
   "id": "06b740aa",
   "metadata": {},
   "outputs": [],
   "source": [
    "imnr = imn[85:125,240:270]\n",
    "plt.imshow(imnr)\n",
    "plt.show()"
   ]
  },
  {
   "cell_type": "code",
   "execution_count": null,
   "id": "de1df200",
   "metadata": {},
   "outputs": [],
   "source": [
    "imnr_col = imnr.copy()\n",
    "imnr_col[:,:,1:] =0\n",
    "plt.imshow(imnr_col)\n",
    "plt.show()"
   ]
  },
  {
   "cell_type": "markdown",
   "id": "17599658",
   "metadata": {},
   "source": [
    "## cas des fichiers audio"
   ]
  },
  {
   "cell_type": "code",
   "execution_count": null,
   "id": "41ee67b6",
   "metadata": {},
   "outputs": [],
   "source": [
    "y, fs = torchaudio.load('figures/radio.wav')\n",
    "\n",
    "print(torchaudio.info('figures/radio.wav'))"
   ]
  },
  {
   "cell_type": "code",
   "execution_count": null,
   "id": "f91b027b",
   "metadata": {},
   "outputs": [],
   "source": [
    "plot_waveform(y, fs)"
   ]
  },
  {
   "cell_type": "code",
   "execution_count": null,
   "id": "42328bc7",
   "metadata": {
    "scrolled": true
   },
   "outputs": [],
   "source": [
    "display(Audio(y, rate=fs*2))"
   ]
  },
  {
   "cell_type": "code",
   "execution_count": null,
   "id": "c57aaf19",
   "metadata": {},
   "outputs": [],
   "source": [
    "#je veux le signal entre 1 et 2s\n",
    "#puis sur 10 échantillons\n",
    "n1 = int(1*fs)\n",
    "n2 = int(2*fs)\n",
    "#n2 = n1+10\n",
    "wr = y[0,n1:n2].reshape((1,n2-n1))\n",
    "plot_waveform(wr, fs, \"forme d'onde réduite\")"
   ]
  },
  {
   "cell_type": "markdown",
   "id": "96e980cd",
   "metadata": {},
   "source": [
    "## contenu fréquentiel (kesako ?)"
   ]
  },
  {
   "cell_type": "code",
   "execution_count": null,
   "id": "98a8cfcb",
   "metadata": {},
   "outputs": [],
   "source": [
    "plot_specgram(wr, fs, ylim=[0, 6000])"
   ]
  },
  {
   "cell_type": "markdown",
   "id": "bbc53b16",
   "metadata": {},
   "source": [
    "![toto](./figures/everything_in_its_right_place.png)"
   ]
  },
  {
   "cell_type": "markdown",
   "id": "cc7a0420",
   "metadata": {},
   "source": [
    "Observer le contenu fréquentiel sur un extrait court et **stationnaire** ? "
   ]
  },
  {
   "cell_type": "code",
   "execution_count": null,
   "id": "cabb9eb7",
   "metadata": {},
   "outputs": [],
   "source": [
    "nfft = 1024\n",
    "nr1 = int(0.05*fs)\n",
    "nr2 = int(0.25*fs)\n",
    "wrr = wr[0,nr1:nr2].numpy()\n",
    "print(wrr.shape)\n",
    "tps = np.linspace(0.05, 0.25, nr2-nr1)\n",
    "plot_temps(tps, wrr)\n",
    "#TFwrr = fft(wrr, nfft)\n",
    "\n",
    "#freq = np.linspace(0, fs, nfft)\n",
    "#plot_freq(freq, np.abs(TFwrr), xlim=[0, 2500])"
   ]
  },
  {
   "cell_type": "markdown",
   "id": "be91732b",
   "metadata": {},
   "source": [
    "# 2) Définir des signaux théoriques\n",
    "\n",
    "On essaye de reproduire deux signaux théoriques : sinus et rectangle sur une durée donnée avec une fréquence d'échantillonnage donnée."
   ]
  },
  {
   "cell_type": "code",
   "execution_count": null,
   "id": "bf03207c",
   "metadata": {},
   "outputs": [],
   "source": [
    "fsm = 2000  # Hz\n",
    "Tm = 1.2   # secondes\n",
    "\n",
    "def sinusoide(tps, f0):\n",
    "    # tps: vecteurs de temps correspondant à l'échantillonnage\n",
    "    # f0 : fréquence fondamentale, inverse de la période fondamentale\n",
    "    return np.sin(2*np.pi*f0*tps)\n",
    "\n",
    "def rectangle(tps, a, fs, m = None):\n",
    "    # tps: vecteurs de temps correspondant à l'échantillonnage\n",
    "    # a : largeur de la fenêtre (en secondes) où le rectangle vaut 1.\n",
    "    # attention ici on placera par défaut le temps t=0 au milieu\n",
    "    n = len(tps)\n",
    "    if m:\n",
    "        n1 = int(m*fs) - int(a*fs/2)\n",
    "        n2 = int(m*fs) + int(a*fs/2)\n",
    "    else:\n",
    "        n1 = n//2 - int(a*fs/2)\n",
    "        n2 = n//2 + int(a*fs/2)\n",
    "    rec = np.zeros(n)\n",
    "    rec[n1:n2] = 1\n",
    "    return rec\n",
    "    \n",
    "t = np.linspace(0, Tm, int(Tm*fsm))\n",
    "y = sinusoide(t, 10)\n",
    "z = rectangle(t, 0.4, fsm)\n",
    "plt.figure(figsize=(12,4))\n",
    "plt.subplot(1,2,1)\n",
    "plt.plot(t,y)\n",
    "plt.xlabel('temps(sec)')\n",
    "plt.ylabel('amp')\n",
    "plt.title('sinusoide')\n",
    "plt.subplot(1,2,2)\n",
    "plt.plot(t,z)\n",
    "plt.xlabel('temps(sec)')\n",
    "plt.ylabel('amp')\n",
    "plt.title('rectangle')\n",
    "plt.show()"
   ]
  },
  {
   "cell_type": "markdown",
   "id": "f312126f",
   "metadata": {},
   "source": [
    "Quelles fréquences sont contenues dans ces signaux ?? Faisons une transformée de Fourier, car la décomposition en série de Fourier n'est pas évidente à implémenter en python. \n",
    "\n",
    "Comme se sont des signaux **stationnaires** qui ne varient pas au cours du temps, on calculera la transformée de Fourier sur l'ensemble de la durée du signal. \n",
    "\n",
    "Pour des signaux non stationnaires comme ceux que vous traiterez en TD, on utilisera le concept de **trames** qui correspond à une fenêtre temporelle sur laquelle on considère le signal comme stationnaire. Typiquement dans le traitement audio ces trames durent entre 20 et 40ms."
   ]
  },
  {
   "cell_type": "code",
   "execution_count": null,
   "id": "05071a86",
   "metadata": {},
   "outputs": [],
   "source": [
    "f = np.linspace(0, fsm, int(Tm*fsm))\n",
    "TFy = np.abs(fft(y))\n",
    "TFz = np.abs(fft(z))\n",
    "plt.figure(figsize=(12,4))\n",
    "plt.subplot(1,2,1)\n",
    "plt.plot(f,TFy)\n",
    "plt.xlabel('freq(Hz)')\n",
    "plt.ylabel('amp')\n",
    "plt.xlim([0,100])\n",
    "plt.title('sinusoide')\n",
    "plt.subplot(1,2,2)\n",
    "plt.plot(f,TFz)\n",
    "plt.xlabel('freq(Hz)')\n",
    "plt.ylabel('amp')\n",
    "plt.xlim([0,100])\n",
    "plt.title('rectangle')\n",
    "plt.show()"
   ]
  },
  {
   "cell_type": "markdown",
   "id": "69b72fd0",
   "metadata": {},
   "source": [
    "# 3) Reconstruire les premières notes"
   ]
  },
  {
   "cell_type": "raw",
   "id": "4019916f",
   "metadata": {},
   "source": [
    "do-lab-sol-do-do/sol/sib/do\n",
    "note: freq (Hz)\n",
    "do : 261.63\n",
    "lab: 207.65\n",
    "sol: 196.00\n",
    "do : 130.81\n",
    "do/sol/sib/do: 130.81/196.00/233.08/261.63"
   ]
  },
  {
   "cell_type": "code",
   "execution_count": null,
   "id": "1599f65b",
   "metadata": {},
   "outputs": [],
   "source": [
    "temps = np.linspace(0, wr.shape[1]/fs, wr.shape[1])\n",
    "y1 = 0.3 * sinusoide(temps, 261.63) * rectangle(temps, 0.2, fs, m = 0.1)\n",
    "\n",
    "#plot_temps(temps, y1)\n",
    "\n",
    "y2 = (0.3 * sinusoide(temps, 261.63) +\n",
    "      0.4 * sinusoide(temps, 207.65)) * rectangle(temps, 0.2, fs, m = 0.3)\n",
    "\n",
    "#plot_temps(temps, y2)\n",
    "freq = np.linspace(0, fs, wr.shape[1])\n",
    "TFy1 = np.abs(fft(y1, nfft))\n",
    "plt.plot(freq[:64],TFy1[:64])\n",
    "#plt.plot(freq[:64], np.abs(TFwrr[0:64]), 'r')\n",
    "plt.show()"
   ]
  },
  {
   "cell_type": "code",
   "execution_count": null,
   "id": "9b0b0435",
   "metadata": {},
   "outputs": [],
   "source": [
    "display(Audio(y1+y2, rate=fs))"
   ]
  },
  {
   "cell_type": "code",
   "execution_count": null,
   "id": "77ebbed4",
   "metadata": {},
   "outputs": [],
   "source": [
    "wav.write('debut.wav', fs, y1+y2)"
   ]
  },
  {
   "cell_type": "markdown",
   "id": "789f4c71",
   "metadata": {},
   "source": [
    "### On voudrait un signal qui sonne plus \"réel\"\n",
    "On va donc créer un signal harmonique, c'est à dire un signal qui contient une sinusoide de fréquence $f_0$ et ses harmoniques."
   ]
  },
  {
   "cell_type": "code",
   "execution_count": null,
   "id": "572b0be6",
   "metadata": {},
   "outputs": [],
   "source": [
    "def harmonique(tps, f0, coef):\n",
    "    y = np.zeros((len(coef), len(tps)))\n",
    "    for i, c in enumerate(coef):\n",
    "        y[i,:] = c * sinusoide(tps, i*f0)\n",
    "    return np.sum(y, axis=0)\n",
    "\n",
    "coef = [2/n if n > 0 else 1 for n in range(0,8) if n > 0]\n",
    "print(coef)\n",
    "yharmo = harmonique(temps, 10, coef)\n",
    "r1 = rectangle(temps, 0.2, fs, m = 0.1)\n",
    "plot_temps(temps,yharmo*r1)"
   ]
  },
  {
   "cell_type": "code",
   "execution_count": null,
   "id": "c6510c6c",
   "metadata": {},
   "outputs": [],
   "source": [
    "display(Audio(yharmo*r1+y2, rate=fs))"
   ]
  },
  {
   "cell_type": "code",
   "execution_count": null,
   "id": "13b27168",
   "metadata": {},
   "outputs": [],
   "source": []
  }
 ],
 "metadata": {
  "kernelspec": {
   "display_name": "speech",
   "language": "python",
   "name": "speech"
  },
  "language_info": {
   "codemirror_mode": {
    "name": "ipython",
    "version": 3
   },
   "file_extension": ".py",
   "mimetype": "text/x-python",
   "name": "python",
   "nbconvert_exporter": "python",
   "pygments_lexer": "ipython3",
   "version": "3.9.7"
  }
 },
 "nbformat": 4,
 "nbformat_minor": 5
}
