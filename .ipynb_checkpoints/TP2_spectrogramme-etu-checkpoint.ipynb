{
 "cells": [
  {
   "cell_type": "markdown",
   "id": "72e68684",
   "metadata": {},
   "source": [
    "# Méthodologie et données - TD/AAG n°2\n",
    "\n"
   ]
  },
  {
   "cell_type": "markdown",
   "id": "01a07eb2",
   "metadata": {},
   "source": [
    "## Exercice 1 : Fréquence analogique et fréquence discrète\n",
    "\n",
    "On suppose qu'un signal obtenu comme étant la somme de plusieurs sinusoïdes a été échantillonné à 12kHz. On traite les 500 premiers échantillons en effectuant une transformée de Fourier discrète (TFD) du bloc $s_e(n)$ sur $N=1024$ points. La TFD $S_e(k)$ contient des pics aux indices $k=40, 80, 924$ et $984$."
   ]
  },
  {
   "cell_type": "code",
   "execution_count": 2,
   "id": "8ec47988",
   "metadata": {},
   "outputs": [
    {
     "name": "stdout",
     "output_type": "stream",
     "text": [
      "Defaulting to user installation because normal site-packages is not writeable\n",
      "Collecting librosa\n",
      "  Downloading librosa-0.10.1-py3-none-any.whl (253 kB)\n",
      "\u001b[2K     \u001b[38;2;114;156;31m━━━━━━━━━━━━━━━━━━━━━━━━━━━━━━━━━━━━━━━\u001b[0m \u001b[32m253.7/253.7 kB\u001b[0m \u001b[31m4.2 MB/s\u001b[0m eta \u001b[36m0:00:00\u001b[0m[31m3.5 MB/s\u001b[0m eta \u001b[36m0:00:01\u001b[0m\n",
      "\u001b[?25hCollecting audioread>=2.1.9\n",
      "  Downloading audioread-3.0.1-py3-none-any.whl (23 kB)\n",
      "Requirement already satisfied: soundfile>=0.12.1 in /info/etu/m1/s2203093/.local/lib/python3.8/site-packages (from librosa) (0.12.1)\n",
      "Collecting lazy-loader>=0.1\n",
      "  Downloading lazy_loader-0.3-py3-none-any.whl (9.1 kB)\n",
      "Requirement already satisfied: decorator>=4.3.0 in /usr/local/lib/python3.8/dist-packages (from librosa) (5.0.9)\n",
      "Collecting numba>=0.51.0\n",
      "  Downloading numba-0.58.1-cp38-cp38-manylinux2014_x86_64.manylinux_2_17_x86_64.whl (3.7 MB)\n",
      "\u001b[2K     \u001b[38;2;114;156;31m━━━━━━━━━━━━━━━━━━━━━━━━━━━━━━━━━━━━━━━━\u001b[0m \u001b[32m3.7/3.7 MB\u001b[0m \u001b[31m32.2 MB/s\u001b[0m eta \u001b[36m0:00:00\u001b[0mm eta \u001b[36m0:00:01\u001b[0m[36m0:00:01\u001b[0m\n",
      "\u001b[?25hRequirement already satisfied: numpy!=1.22.0,!=1.22.1,!=1.22.2,>=1.20.3 in /usr/local/lib/python3.8/dist-packages (from librosa) (1.21.0)\n",
      "Collecting soxr>=0.3.2\n",
      "  Downloading soxr-0.3.7-cp38-cp38-manylinux_2_17_x86_64.manylinux2014_x86_64.whl (1.3 MB)\n",
      "\u001b[2K     \u001b[38;2;114;156;31m━━━━━━━━━━━━━━━━━━━━━━━━━━━━━━━━━━━━━━━━\u001b[0m \u001b[32m1.3/1.3 MB\u001b[0m \u001b[31m39.1 MB/s\u001b[0m eta \u001b[36m0:00:00\u001b[0m\n",
      "\u001b[?25hRequirement already satisfied: scikit-learn>=0.20.0 in /usr/local/lib/python3.8/dist-packages (from librosa) (0.24.2)\n",
      "Collecting msgpack>=1.0\n",
      "  Downloading msgpack-1.0.7-cp38-cp38-manylinux_2_17_x86_64.manylinux2014_x86_64.whl (534 kB)\n",
      "\u001b[2K     \u001b[38;2;114;156;31m━━━━━━━━━━━━━━━━━━━━━━━━━━━━━━━━━━━━━━\u001b[0m \u001b[32m534.8/534.8 kB\u001b[0m \u001b[31m28.1 MB/s\u001b[0m eta \u001b[36m0:00:00\u001b[0m\n",
      "\u001b[?25hRequirement already satisfied: joblib>=0.14 in /usr/local/lib/python3.8/dist-packages (from librosa) (1.0.1)\n",
      "Requirement already satisfied: scipy>=1.2.0 in /usr/local/lib/python3.8/dist-packages (from librosa) (1.7.0)\n",
      "Collecting typing-extensions>=4.1.1\n",
      "  Downloading typing_extensions-4.8.0-py3-none-any.whl (31 kB)\n",
      "Collecting pooch>=1.0\n",
      "  Downloading pooch-1.8.0-py3-none-any.whl (62 kB)\n",
      "\u001b[2K     \u001b[38;2;114;156;31m━━━━━━━━━━━━━━━━━━━━━━━━━━━━━━━━━━━━━━━━\u001b[0m \u001b[32m62.7/62.7 kB\u001b[0m \u001b[31m5.7 MB/s\u001b[0m eta \u001b[36m0:00:00\u001b[0m\n",
      "\u001b[?25hCollecting llvmlite<0.42,>=0.41.0dev0\n",
      "  Downloading llvmlite-0.41.1-cp38-cp38-manylinux_2_17_x86_64.manylinux2014_x86_64.whl (43.6 MB)\n",
      "\u001b[2K     \u001b[38;2;114;156;31m━━━━━━━━━━━━━━━━━━━━━━━━━━━━━━━━━━━━━━━━\u001b[0m \u001b[32m43.6/43.6 MB\u001b[0m \u001b[31m18.4 MB/s\u001b[0m eta \u001b[36m0:00:00\u001b[0mm eta \u001b[36m0:00:01\u001b[0m[36m0:00:01\u001b[0m\n",
      "\u001b[?25hRequirement already satisfied: importlib-metadata in /usr/lib/python3/dist-packages (from numba>=0.51.0->librosa) (1.5.0)\n",
      "Collecting numpy!=1.22.0,!=1.22.1,!=1.22.2,>=1.20.3\n",
      "  Downloading numpy-1.24.4-cp38-cp38-manylinux_2_17_x86_64.manylinux2014_x86_64.whl (17.3 MB)\n",
      "\u001b[2K     \u001b[38;2;114;156;31m━━━━━━━━━━━━━━━━━━━━━━━━━━━━━━━━━━━━━━━━\u001b[0m \u001b[32m17.3/17.3 MB\u001b[0m \u001b[31m36.0 MB/s\u001b[0m eta \u001b[36m0:00:00\u001b[0mm eta \u001b[36m0:00:01\u001b[0m0:01\u001b[0m:01\u001b[0m\n",
      "\u001b[?25hRequirement already satisfied: requests>=2.19.0 in /usr/lib/python3/dist-packages (from pooch>=1.0->librosa) (2.22.0)\n",
      "Collecting platformdirs>=2.5.0\n",
      "  Downloading platformdirs-4.0.0-py3-none-any.whl (17 kB)\n",
      "Requirement already satisfied: packaging>=20.0 in /usr/local/lib/python3.8/dist-packages (from pooch>=1.0->librosa) (20.9)\n",
      "Requirement already satisfied: threadpoolctl>=2.0.0 in /usr/local/lib/python3.8/dist-packages (from scikit-learn>=0.20.0->librosa) (2.1.0)\n",
      "Collecting numpy!=1.22.0,!=1.22.1,!=1.22.2,>=1.20.3\n",
      "  Downloading numpy-1.22.4-cp38-cp38-manylinux_2_17_x86_64.manylinux2014_x86_64.whl (16.9 MB)\n",
      "\u001b[2K     \u001b[38;2;114;156;31m━━━━━━━━━━━━━━━━━━━━━━━━━━━━━━━━━━━━━━━━\u001b[0m \u001b[32m16.9/16.9 MB\u001b[0m \u001b[31m36.8 MB/s\u001b[0m eta \u001b[36m0:00:00\u001b[0mm eta \u001b[36m0:00:01\u001b[0m[36m0:00:01\u001b[0m\n",
      "\u001b[?25hRequirement already satisfied: cffi>=1.0 in /usr/local/lib/python3.8/dist-packages (from soundfile>=0.12.1->librosa) (1.14.5)\n",
      "Requirement already satisfied: pycparser in /usr/local/lib/python3.8/dist-packages (from cffi>=1.0->soundfile>=0.12.1->librosa) (2.20)\n",
      "Requirement already satisfied: pyparsing>=2.0.2 in /usr/local/lib/python3.8/dist-packages (from packaging>=20.0->pooch>=1.0->librosa) (2.4.7)\n",
      "Installing collected packages: typing-extensions, platformdirs, numpy, msgpack, llvmlite, lazy-loader, audioread, soxr, pooch, numba, librosa\n",
      "\u001b[33m  WARNING: The scripts f2py, f2py3 and f2py3.8 are installed in '/info/etu/m1/s2203093/.local/bin' which is not on PATH.\n",
      "  Consider adding this directory to PATH or, if you prefer to suppress this warning, use --no-warn-script-location.\u001b[0m\u001b[33m\n",
      "\u001b[0m\u001b[31mERROR: pip's dependency resolver does not currently take into account all the packages that are installed. This behaviour is the source of the following dependency conflicts.\n",
      "torch 2.1.0 requires sympy, which is not installed.\n",
      "torchvision 0.10.0 requires torch==1.9.0, but you have torch 2.1.0 which is incompatible.\u001b[0m\u001b[31m\n",
      "\u001b[0mSuccessfully installed audioread-3.0.1 lazy-loader-0.3 librosa-0.10.1 llvmlite-0.41.1 msgpack-1.0.7 numba-0.58.1 numpy-1.22.4 platformdirs-4.0.0 pooch-1.8.0 soxr-0.3.7 typing-extensions-4.8.0\n",
      "--- Logging error ---\n",
      "Traceback (most recent call last):\n",
      "  File \"/usr/local/lib/python3.8/dist-packages/pip/_internal/utils/logging.py\", line 177, in emit\n",
      "    self.console.print(renderable, overflow=\"ignore\", crop=False, style=style)\n",
      "  File \"/usr/local/lib/python3.8/dist-packages/pip/_vendor/rich/console.py\", line 1673, in print\n",
      "    extend(render(renderable, render_options))\n",
      "  File \"/usr/local/lib/python3.8/dist-packages/pip/_vendor/rich/console.py\", line 1305, in render\n",
      "    for render_output in iter_render:\n",
      "  File \"/usr/local/lib/python3.8/dist-packages/pip/_internal/utils/logging.py\", line 134, in __rich_console__\n",
      "    for line in lines:\n",
      "  File \"/usr/local/lib/python3.8/dist-packages/pip/_vendor/rich/segment.py\", line 249, in split_lines\n",
      "    for segment in segments:\n",
      "  File \"/usr/local/lib/python3.8/dist-packages/pip/_vendor/rich/console.py\", line 1283, in render\n",
      "    renderable = rich_cast(renderable)\n",
      "  File \"/usr/local/lib/python3.8/dist-packages/pip/_vendor/rich/protocol.py\", line 36, in rich_cast\n",
      "    renderable = cast_method()\n",
      "  File \"/usr/local/lib/python3.8/dist-packages/pip/_internal/self_outdated_check.py\", line 130, in __rich__\n",
      "    pip_cmd = get_best_invocation_for_this_pip()\n",
      "  File \"/usr/local/lib/python3.8/dist-packages/pip/_internal/utils/entrypoints.py\", line 58, in get_best_invocation_for_this_pip\n",
      "    if found_executable and os.path.samefile(\n",
      "  File \"/usr/lib/python3.8/genericpath.py\", line 101, in samefile\n",
      "    s2 = os.stat(f2)\n",
      "FileNotFoundError: [Errno 2] Aucun fichier ou dossier de ce type: '/usr/bin/pip3.8'\n",
      "Call stack:\n",
      "  File \"/usr/local/bin/pip\", line 8, in <module>\n",
      "    sys.exit(main())\n",
      "  File \"/usr/local/lib/python3.8/dist-packages/pip/_internal/cli/main.py\", line 70, in main\n",
      "    return command.main(cmd_args)\n",
      "  File \"/usr/local/lib/python3.8/dist-packages/pip/_internal/cli/base_command.py\", line 101, in main\n",
      "    return self._main(args)\n",
      "  File \"/usr/local/lib/python3.8/dist-packages/pip/_internal/cli/base_command.py\", line 223, in _main\n",
      "    self.handle_pip_version_check(options)\n",
      "  File \"/usr/local/lib/python3.8/dist-packages/pip/_internal/cli/req_command.py\", line 190, in handle_pip_version_check\n",
      "    pip_self_version_check(session, options)\n",
      "  File \"/usr/local/lib/python3.8/dist-packages/pip/_internal/self_outdated_check.py\", line 236, in pip_self_version_check\n",
      "    logger.warning(\"[present-rich] %s\", upgrade_prompt)\n",
      "  File \"/usr/lib/python3.8/logging/__init__.py\", line 1458, in warning\n",
      "    self._log(WARNING, msg, args, **kwargs)\n",
      "  File \"/usr/lib/python3.8/logging/__init__.py\", line 1589, in _log\n",
      "    self.handle(record)\n",
      "  File \"/usr/lib/python3.8/logging/__init__.py\", line 1599, in handle\n",
      "    self.callHandlers(record)\n",
      "  File \"/usr/lib/python3.8/logging/__init__.py\", line 1661, in callHandlers\n",
      "    hdlr.handle(record)\n",
      "  File \"/usr/lib/python3.8/logging/__init__.py\", line 954, in handle\n",
      "    self.emit(record)\n",
      "  File \"/usr/local/lib/python3.8/dist-packages/pip/_internal/utils/logging.py\", line 179, in emit\n",
      "    self.handleError(record)\n",
      "Message: '[present-rich] %s'\n",
      "Arguments: (UpgradePrompt(old='22.2.2', new='23.3.1'),)\n"
     ]
    }
   ],
   "source": [
    "!pip install librosa"
   ]
  },
  {
   "cell_type": "code",
   "execution_count": 3,
   "id": "dca55ab9",
   "metadata": {},
   "outputs": [],
   "source": [
    "import numpy as np\n",
    "import matplotlib.pyplot as plt\n",
    "import librosa\n",
    "import scipy.io.wavfile as wav\n",
    "from IPython.display import Audio, display\n",
    "from scipy.fft import fft, fft2, rfft, fftshift"
   ]
  },
  {
   "cell_type": "markdown",
   "id": "b708be15",
   "metadata": {},
   "source": [
    "**Q1** Charger le signal 'multifreq.wav'. Vérifier que la fréquence d'échantillonnage est bien 12kHz. Quelle est la durée du signal en secondes ?"
   ]
  },
  {
   "cell_type": "code",
   "execution_count": 11,
   "id": "3ba5555b",
   "metadata": {},
   "outputs": [
    {
     "name": "stdout",
     "output_type": "stream",
     "text": [
      "12000\n"
     ]
    },
    {
     "data": {
      "text/plain": [
       "1.5"
      ]
     },
     "execution_count": 11,
     "metadata": {},
     "output_type": "execute_result"
    }
   ],
   "source": [
    "sr, data = wav.read(\"multifreq.wav\")\n",
    "print(sr)\n",
    "length = data.shape[0] / sr\n",
    "length"
   ]
  },
  {
   "cell_type": "markdown",
   "id": "c9859dfb",
   "metadata": {},
   "source": [
    "**Q2** Calculer la TFD du signal en suivant les consignes (vous utiliserez bien sûr la fonction fft) et afficher son module. Faire un schéma sur papier du résultat obtenu, en faisant figurer l'échelle fréquentielle en fréquence discrète $k$."
   ]
  },
  {
   "cell_type": "code",
   "execution_count": 13,
   "id": "eb525a72",
   "metadata": {},
   "outputs": [
    {
     "data": {
      "text/plain": [
       "array([1.98139017-0.j        , 1.98139159-0.00180294j,\n",
       "       1.98139585-0.00360588j, ..., 1.98140294+0.00540884j,\n",
       "       1.98139585+0.00360588j, 1.98139159+0.00180294j])"
      ]
     },
     "execution_count": 13,
     "metadata": {},
     "output_type": "execute_result"
    }
   ],
   "source": [
    "tfd = fft(data)\n",
    "\n",
    "tfd"
   ]
  },
  {
   "cell_type": "markdown",
   "id": "26622660",
   "metadata": {},
   "source": [
    "**Q3** Quelle est la relation qui existe entre la fréquence $f$ en Hz et la fréquence discrète $k$ de la TFD ? Compléter votre graphique en exprimant l'axe des abscisses en fréquence réelle $f$ en Hz."
   ]
  },
  {
   "cell_type": "code",
   "execution_count": null,
   "id": "1281bdaf",
   "metadata": {},
   "outputs": [],
   "source": []
  },
  {
   "cell_type": "markdown",
   "id": "67c6e7cc",
   "metadata": {},
   "source": [
    "**Q4** Combien y a-t-il de sinusoïdes ? Quelles sont leurs fréquences réelles ?"
   ]
  },
  {
   "cell_type": "markdown",
   "id": "3b0e5af5",
   "metadata": {},
   "source": [
    "**Q5** Rappeler une propriété du spectre en module, et ajuster votre échelle des fréquences en conséquence afin de ne visualiser que de l'information utile."
   ]
  },
  {
   "cell_type": "markdown",
   "id": "08553331",
   "metadata": {},
   "source": [
    "## Exercice 2 : TFD et fenêtrage\n",
    "\n",
    "Dans de nombreux cas en traitement du signal, on doit se placer dans des conditions de quasi stationnarité pour effectuer une analyse du signal sur des trames d'une durée fixe. Pour cela, on effectue un fenêtrage du signal. Le signal fenêtré $x_w(n)$ est défini comme le produit du signal et de la fenêtre : $x_w(n) = x(n) \\cdot w(n)$ où $x(n)$ est le signal à analyser et $w(n)$ la fenêtre d'observation de $K$ échantillons de valeur nulle en dehors de l'intervalle d'observation $[0, K-1]$"
   ]
  },
  {
   "cell_type": "markdown",
   "id": "b9e4de35",
   "metadata": {},
   "source": [
    "**Q1** Indiquer la relation théorique qui existe entre les TF continues $X(f)$, $W(f)$ et $X_w(f)$ des signaux discrets respectivement $x(n)$, $w(n)$, $x_w(n)$. En déduire la relation sur les TFD calculées sur les $K$ échantillons où la fenêtre est non nulle."
   ]
  },
  {
   "cell_type": "markdown",
   "id": "35343233",
   "metadata": {},
   "source": [
    "**Q2** Charger le signal 'etjelis.wav'. Indiquer la fréquence d'échantillonnage du signal et sa durée en seconde."
   ]
  },
  {
   "cell_type": "markdown",
   "id": "14b1f795",
   "metadata": {},
   "source": [
    "**Q3** Récupérer la trame qui commence à $t=1$ sec. et qui contient $K=256$ échantillons. Quelle est sa durée ? Afficher la forme d'onde de la trame en indiquant l'axe temporel en secondes. Donner la période approximative en secondes observée sur cette trame."
   ]
  },
  {
   "cell_type": "markdown",
   "id": "ad41805e",
   "metadata": {},
   "source": [
    "**Q4** Calculer et afficher la TFD du signal fenêtré sur $M=K=256$ points, puis $M >> K$ (par exemple $M=2048$). Faites attention à l'échelle des fréquences.\n",
    "\n",
    "Rappeler quelle est la TF continue d'une fenêtre carrée de largeur $M$, puis expliquer l'allure du spectre obtenu dans chaque cas. On pourra afficher seulement une partie du spectre, afin de pouvoir l'observer de façon précise à l'échantillon près. Donner la fréquence du premier pic observé. Retrouvez-vous la valeur calculée à la question Q2 ?"
   ]
  },
  {
   "cell_type": "markdown",
   "id": "d613c7d3",
   "metadata": {},
   "source": [
    "**Q5** Ecrire un script qui permet de visualiser les formes et spectre en module des différentes fenêtres ci-dessous avec une taille de fenêtre de $K=256$ échantillons. Les spectres seront calculés avec $N=256$ puis $1024$ points.\n",
    "* fenêtre rectangulaire\n",
    "* fenêtre triangulaire\n",
    "* fenêtre de Hamming\n",
    "* fenêtre de Hanning"
   ]
  },
  {
   "cell_type": "markdown",
   "id": "fb9134b1",
   "metadata": {},
   "source": [
    "**Q6** Dans le cadre de l'analyse du signal 'etjelis.wav' quelle fenêtre conseillez-vous et pourquoi ?"
   ]
  },
  {
   "cell_type": "markdown",
   "id": "d91a05df",
   "metadata": {},
   "source": [
    "## Exercice 3 : segmentation et spectrogramme.\n",
    "\n",
    "Nous allons maintenant procéder à la segmentation complète du signal 'etjelis.wav' afin de préparer le calcul du spectrogramme."
   ]
  },
  {
   "cell_type": "markdown",
   "id": "d2778f33",
   "metadata": {},
   "source": [
    "**Q1** Construire une fonction qui prend en entrée un signal à une dimension, le découpe en trame de $K$ échantillons tous les $P$ échantillons. Cette fonction retournera un tableau contenant l'ensemble des trames en fonction du temps. Vos trames seront préalablement fenêtrées avec une fenêtre pertinente."
   ]
  },
  {
   "cell_type": "markdown",
   "id": "16e989a5",
   "metadata": {},
   "source": [
    "**Q2** Vous aurez sans doute remarquer que le découpage du signal en trame ne permet pas de tomber sur un nombre de trame entier. Deux options alors, soit vous ne prenez pas en compte la dernière trame incomplète, soit vous ajoutez des zéros pour la compléter (padding). Vous implémenterez le padding."
   ]
  },
  {
   "cell_type": "markdown",
   "id": "1ba4e510",
   "metadata": {},
   "source": [
    "**Q3** Calculer la TFD de chaque trame sur $N= 256$ échantillons et construire une matrice contenant en ligne le temps, et en colonne les fréquences. Afficher ce spectrogramme et comparer-le avec la version de ` librosa`  donnée ci-dessous. Vous prendrez soin de choisir les bons paramètres pour le spectrogramme (les paramètres par défaut ne correspondent pas à ce que vous avez implémenté plus haut).\n",
    "\n",
    "La documentation de `librosa` se trouve ici : https://librosa.org/doc/main/index.html"
   ]
  },
  {
   "cell_type": "code",
   "execution_count": null,
   "id": "50eaba79",
   "metadata": {},
   "outputs": [],
   "source": []
  }
 ],
 "metadata": {
  "kernelspec": {
   "display_name": "Python 3",
   "language": "python",
   "name": "python3"
  },
  "language_info": {
   "codemirror_mode": {
    "name": "ipython",
    "version": 3
   },
   "file_extension": ".py",
   "mimetype": "text/x-python",
   "name": "python",
   "nbconvert_exporter": "python",
   "pygments_lexer": "ipython3",
   "version": "3.8.10"
  }
 },
 "nbformat": 4,
 "nbformat_minor": 5
}
